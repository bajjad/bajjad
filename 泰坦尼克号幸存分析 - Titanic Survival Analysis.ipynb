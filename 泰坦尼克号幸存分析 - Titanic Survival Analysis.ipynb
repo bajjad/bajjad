{
 "cells": [
  {
   "cell_type": "markdown",
   "metadata": {},
   "source": [
    "## 泰坦尼克号幸存分析 - Titanic Survival Analysis"
   ]
  },
  {
   "cell_type": "markdown",
   "metadata": {},
   "source": [
    "### 简介 - Introduction"
   ]
  },
  {
   "cell_type": "markdown",
   "metadata": {},
   "source": [
    "这个笔记本用于分析泰坦尼克号乘客的生存机会，依据是他们的**社会经济地位**（以船舱等级为代表）、**性别**、**年龄**和**登船港口**。\n",
    "\n",
    "我们使用的数据集已命名titanic_data.csv，可在[此处](http://bit.ly/kaggletrain)获得。\n",
    "\n",
    "我们的基础数据集将包含以下关键数据列：\n",
    "\n",
    "- Pclass - (船舱等级)\n",
    "- Sex -(性别)\n",
    "- Age -(年龄)\n",
    "- Embarked - (登船港口)\n",
    "\n",
    "关于舱位数据源为1、2、3，为方便描述，我做了如下对应：\n",
    "\n",
    "- 1 - 头等舱\n",
    "- 2 - 商务舱\n",
    "- 3 - 杰克舱\n",
    "\n",
    "确切地说，我们将从以下几个方面进行分析：\n",
    "\n",
    "- 船舱等级对生存机会的影响？\n",
    "- 性别对生存机会的影响？\n",
    "- 年龄对生存机会的影响？\n",
    "- 在哪儿登船对生存机会的影响？\n",
    "\n",
    "我们将首先要建立DataFrame并对数据做必要的处理，如有必要，我们还将在分析期间删除异常值。\n",
    "\n",
    "我们还将定义两个函数get_count()和gen_plot()，这将在分析过程中节省时间。"
   ]
  },
  {
   "cell_type": "markdown",
   "metadata": {},
   "source": [
    "### 准备数据集 - Preparing the dataset for analysis"
   ]
  },
  {
   "cell_type": "code",
   "execution_count": 5,
   "metadata": {},
   "outputs": [
    {
     "data": {
      "text/plain": [
       "Index(['PassengerId', 'Survived', 'Pclass', 'Name', 'Sex', 'Age', 'SibSp',\n",
       "       'Parch', 'Ticket', 'Fare', 'Cabin', 'Embarked'],\n",
       "      dtype='object')"
      ]
     },
     "execution_count": 5,
     "metadata": {},
     "output_type": "execute_result"
    }
   ],
   "source": [
    "import pandas as pd\n",
    "import numpy as np\n",
    "from scipy import stats\n",
    "\n",
    "df = pd.read_csv('http://bit.ly/kaggletrain')\n",
    "df.columns"
   ]
  },
  {
   "cell_type": "code",
   "execution_count": 6,
   "metadata": {},
   "outputs": [
    {
     "data": {
      "text/html": [
       "<div>\n",
       "<style scoped>\n",
       "    .dataframe tbody tr th:only-of-type {\n",
       "        vertical-align: middle;\n",
       "    }\n",
       "\n",
       "    .dataframe tbody tr th {\n",
       "        vertical-align: top;\n",
       "    }\n",
       "\n",
       "    .dataframe thead th {\n",
       "        text-align: right;\n",
       "    }\n",
       "</style>\n",
       "<table border=\"1\" class=\"dataframe\">\n",
       "  <thead>\n",
       "    <tr style=\"text-align: right;\">\n",
       "      <th></th>\n",
       "      <th>PassengerId</th>\n",
       "      <th>Survived</th>\n",
       "      <th>Pclass</th>\n",
       "      <th>Name</th>\n",
       "      <th>Sex</th>\n",
       "      <th>Age</th>\n",
       "      <th>SibSp</th>\n",
       "      <th>Parch</th>\n",
       "      <th>Ticket</th>\n",
       "      <th>Fare</th>\n",
       "      <th>Cabin</th>\n",
       "      <th>Embarked</th>\n",
       "    </tr>\n",
       "  </thead>\n",
       "  <tbody>\n",
       "    <tr>\n",
       "      <td>0</td>\n",
       "      <td>1</td>\n",
       "      <td>0</td>\n",
       "      <td>3</td>\n",
       "      <td>Braund, Mr. Owen Harris</td>\n",
       "      <td>male</td>\n",
       "      <td>22.0</td>\n",
       "      <td>1</td>\n",
       "      <td>0</td>\n",
       "      <td>A/5 21171</td>\n",
       "      <td>7.2500</td>\n",
       "      <td>NaN</td>\n",
       "      <td>S</td>\n",
       "    </tr>\n",
       "    <tr>\n",
       "      <td>1</td>\n",
       "      <td>2</td>\n",
       "      <td>1</td>\n",
       "      <td>1</td>\n",
       "      <td>Cumings, Mrs. John Bradley (Florence Briggs Th...</td>\n",
       "      <td>female</td>\n",
       "      <td>38.0</td>\n",
       "      <td>1</td>\n",
       "      <td>0</td>\n",
       "      <td>PC 17599</td>\n",
       "      <td>71.2833</td>\n",
       "      <td>C85</td>\n",
       "      <td>C</td>\n",
       "    </tr>\n",
       "    <tr>\n",
       "      <td>2</td>\n",
       "      <td>3</td>\n",
       "      <td>1</td>\n",
       "      <td>3</td>\n",
       "      <td>Heikkinen, Miss. Laina</td>\n",
       "      <td>female</td>\n",
       "      <td>26.0</td>\n",
       "      <td>0</td>\n",
       "      <td>0</td>\n",
       "      <td>STON/O2. 3101282</td>\n",
       "      <td>7.9250</td>\n",
       "      <td>NaN</td>\n",
       "      <td>S</td>\n",
       "    </tr>\n",
       "    <tr>\n",
       "      <td>3</td>\n",
       "      <td>4</td>\n",
       "      <td>1</td>\n",
       "      <td>1</td>\n",
       "      <td>Futrelle, Mrs. Jacques Heath (Lily May Peel)</td>\n",
       "      <td>female</td>\n",
       "      <td>35.0</td>\n",
       "      <td>1</td>\n",
       "      <td>0</td>\n",
       "      <td>113803</td>\n",
       "      <td>53.1000</td>\n",
       "      <td>C123</td>\n",
       "      <td>S</td>\n",
       "    </tr>\n",
       "    <tr>\n",
       "      <td>4</td>\n",
       "      <td>5</td>\n",
       "      <td>0</td>\n",
       "      <td>3</td>\n",
       "      <td>Allen, Mr. William Henry</td>\n",
       "      <td>male</td>\n",
       "      <td>35.0</td>\n",
       "      <td>0</td>\n",
       "      <td>0</td>\n",
       "      <td>373450</td>\n",
       "      <td>8.0500</td>\n",
       "      <td>NaN</td>\n",
       "      <td>S</td>\n",
       "    </tr>\n",
       "  </tbody>\n",
       "</table>\n",
       "</div>"
      ],
      "text/plain": [
       "   PassengerId  Survived  Pclass  \\\n",
       "0            1         0       3   \n",
       "1            2         1       1   \n",
       "2            3         1       3   \n",
       "3            4         1       1   \n",
       "4            5         0       3   \n",
       "\n",
       "                                                Name     Sex   Age  SibSp  \\\n",
       "0                            Braund, Mr. Owen Harris    male  22.0      1   \n",
       "1  Cumings, Mrs. John Bradley (Florence Briggs Th...  female  38.0      1   \n",
       "2                             Heikkinen, Miss. Laina  female  26.0      0   \n",
       "3       Futrelle, Mrs. Jacques Heath (Lily May Peel)  female  35.0      1   \n",
       "4                           Allen, Mr. William Henry    male  35.0      0   \n",
       "\n",
       "   Parch            Ticket     Fare Cabin Embarked  \n",
       "0      0         A/5 21171   7.2500   NaN        S  \n",
       "1      0          PC 17599  71.2833   C85        C  \n",
       "2      0  STON/O2. 3101282   7.9250   NaN        S  \n",
       "3      0            113803  53.1000  C123        S  \n",
       "4      0            373450   8.0500   NaN        S  "
      ]
     },
     "execution_count": 6,
     "metadata": {},
     "output_type": "execute_result"
    }
   ],
   "source": [
    "df.head()"
   ]
  },
  {
   "cell_type": "markdown",
   "metadata": {},
   "source": [
    "重置索引以方便后面使用"
   ]
  },
  {
   "cell_type": "code",
   "execution_count": 7,
   "metadata": {},
   "outputs": [
    {
     "data": {
      "text/html": [
       "<div>\n",
       "<style scoped>\n",
       "    .dataframe tbody tr th:only-of-type {\n",
       "        vertical-align: middle;\n",
       "    }\n",
       "\n",
       "    .dataframe tbody tr th {\n",
       "        vertical-align: top;\n",
       "    }\n",
       "\n",
       "    .dataframe thead th {\n",
       "        text-align: right;\n",
       "    }\n",
       "</style>\n",
       "<table border=\"1\" class=\"dataframe\">\n",
       "  <thead>\n",
       "    <tr style=\"text-align: right;\">\n",
       "      <th></th>\n",
       "      <th>Survived</th>\n",
       "      <th>Pclass</th>\n",
       "      <th>Name</th>\n",
       "      <th>Sex</th>\n",
       "      <th>Age</th>\n",
       "      <th>SibSp</th>\n",
       "      <th>Parch</th>\n",
       "      <th>Ticket</th>\n",
       "      <th>Fare</th>\n",
       "      <th>Cabin</th>\n",
       "      <th>Embarked</th>\n",
       "    </tr>\n",
       "    <tr>\n",
       "      <th>PassengerId</th>\n",
       "      <th></th>\n",
       "      <th></th>\n",
       "      <th></th>\n",
       "      <th></th>\n",
       "      <th></th>\n",
       "      <th></th>\n",
       "      <th></th>\n",
       "      <th></th>\n",
       "      <th></th>\n",
       "      <th></th>\n",
       "      <th></th>\n",
       "    </tr>\n",
       "  </thead>\n",
       "  <tbody>\n",
       "    <tr>\n",
       "      <td>1</td>\n",
       "      <td>0</td>\n",
       "      <td>3</td>\n",
       "      <td>Braund, Mr. Owen Harris</td>\n",
       "      <td>male</td>\n",
       "      <td>22.0</td>\n",
       "      <td>1</td>\n",
       "      <td>0</td>\n",
       "      <td>A/5 21171</td>\n",
       "      <td>7.2500</td>\n",
       "      <td>NaN</td>\n",
       "      <td>S</td>\n",
       "    </tr>\n",
       "    <tr>\n",
       "      <td>2</td>\n",
       "      <td>1</td>\n",
       "      <td>1</td>\n",
       "      <td>Cumings, Mrs. John Bradley (Florence Briggs Th...</td>\n",
       "      <td>female</td>\n",
       "      <td>38.0</td>\n",
       "      <td>1</td>\n",
       "      <td>0</td>\n",
       "      <td>PC 17599</td>\n",
       "      <td>71.2833</td>\n",
       "      <td>C85</td>\n",
       "      <td>C</td>\n",
       "    </tr>\n",
       "    <tr>\n",
       "      <td>3</td>\n",
       "      <td>1</td>\n",
       "      <td>3</td>\n",
       "      <td>Heikkinen, Miss. Laina</td>\n",
       "      <td>female</td>\n",
       "      <td>26.0</td>\n",
       "      <td>0</td>\n",
       "      <td>0</td>\n",
       "      <td>STON/O2. 3101282</td>\n",
       "      <td>7.9250</td>\n",
       "      <td>NaN</td>\n",
       "      <td>S</td>\n",
       "    </tr>\n",
       "    <tr>\n",
       "      <td>4</td>\n",
       "      <td>1</td>\n",
       "      <td>1</td>\n",
       "      <td>Futrelle, Mrs. Jacques Heath (Lily May Peel)</td>\n",
       "      <td>female</td>\n",
       "      <td>35.0</td>\n",
       "      <td>1</td>\n",
       "      <td>0</td>\n",
       "      <td>113803</td>\n",
       "      <td>53.1000</td>\n",
       "      <td>C123</td>\n",
       "      <td>S</td>\n",
       "    </tr>\n",
       "    <tr>\n",
       "      <td>5</td>\n",
       "      <td>0</td>\n",
       "      <td>3</td>\n",
       "      <td>Allen, Mr. William Henry</td>\n",
       "      <td>male</td>\n",
       "      <td>35.0</td>\n",
       "      <td>0</td>\n",
       "      <td>0</td>\n",
       "      <td>373450</td>\n",
       "      <td>8.0500</td>\n",
       "      <td>NaN</td>\n",
       "      <td>S</td>\n",
       "    </tr>\n",
       "  </tbody>\n",
       "</table>\n",
       "</div>"
      ],
      "text/plain": [
       "             Survived  Pclass  \\\n",
       "PassengerId                     \n",
       "1                   0       3   \n",
       "2                   1       1   \n",
       "3                   1       3   \n",
       "4                   1       1   \n",
       "5                   0       3   \n",
       "\n",
       "                                                          Name     Sex   Age  \\\n",
       "PassengerId                                                                    \n",
       "1                                      Braund, Mr. Owen Harris    male  22.0   \n",
       "2            Cumings, Mrs. John Bradley (Florence Briggs Th...  female  38.0   \n",
       "3                                       Heikkinen, Miss. Laina  female  26.0   \n",
       "4                 Futrelle, Mrs. Jacques Heath (Lily May Peel)  female  35.0   \n",
       "5                                     Allen, Mr. William Henry    male  35.0   \n",
       "\n",
       "             SibSp  Parch            Ticket     Fare Cabin Embarked  \n",
       "PassengerId                                                          \n",
       "1                1      0         A/5 21171   7.2500   NaN        S  \n",
       "2                1      0          PC 17599  71.2833   C85        C  \n",
       "3                0      0  STON/O2. 3101282   7.9250   NaN        S  \n",
       "4                1      0            113803  53.1000  C123        S  \n",
       "5                0      0            373450   8.0500   NaN        S  "
      ]
     },
     "execution_count": 7,
     "metadata": {},
     "output_type": "execute_result"
    }
   ],
   "source": [
    "df = df.set_index(['PassengerId'])\n",
    "df.head()"
   ]
  },
  {
   "cell_type": "code",
   "execution_count": 8,
   "metadata": {},
   "outputs": [],
   "source": [
    "def get_nan_count(column):\n",
    "    '''\n",
    "    column - 我们希望获得NaN值数量所在的列\n",
    "    该函数返回特定列中NaN值的数量\n",
    "    '''\n",
    "    nan_count = column.isnull().sum()\n",
    "    return nan_count"
   ]
  },
  {
   "cell_type": "code",
   "execution_count": 9,
   "metadata": {},
   "outputs": [
    {
     "data": {
      "text/plain": [
       "177"
      ]
     },
     "execution_count": 9,
     "metadata": {},
     "output_type": "execute_result"
    }
   ],
   "source": [
    "get_nan_count(df['Age']) # 说明原始数据中用177人的年龄数据没有登记，这也无法保证后续数据分析的准确性，这是没办法的事儿"
   ]
  },
  {
   "cell_type": "code",
   "execution_count": 10,
   "metadata": {},
   "outputs": [
    {
     "data": {
      "text/plain": [
       "2"
      ]
     },
     "execution_count": 10,
     "metadata": {},
     "output_type": "execute_result"
    }
   ],
   "source": [
    "get_nan_count(df['Embarked']) # 登船港口有2人的数据缺失"
   ]
  },
  {
   "cell_type": "markdown",
   "metadata": {},
   "source": [
    "值得庆幸的是，由于**船舱等级**和**性别**数据的完整性，可以提供我们较为真实客观的分析结果，同时我们也将忽略**年龄**和**登船**栏的缺失值。\n",
    "\n",
    "由于**年龄**一栏在891名乘客中有177个空值，分析结果将不太可靠，仅做参考。"
   ]
  },
  {
   "cell_type": "markdown",
   "metadata": {},
   "source": [
    "### 探索和分析数据 - Exploring and analyzing the data"
   ]
  },
  {
   "cell_type": "markdown",
   "metadata": {},
   "source": [
    "因为我们要从4个不同的维度来分析船上的存活率，所以我们定义了一个比率计算函数。"
   ]
  },
  {
   "cell_type": "code",
   "execution_count": 11,
   "metadata": {},
   "outputs": [],
   "source": [
    "survivor_count = df['Survived'].sum()\n",
    "\n",
    "def get_survival_rate(dataframe, factor):\n",
    "    '''\n",
    "    df - 适用于分析的数据框架\n",
    "    factor - 我们希望得到生存率的因素(列)。\n",
    "    函数接收一个列，并根据这个列返回泰坦尼克号乘客的存活率。\n",
    "    '''\n",
    "    by_factor = dataframe.groupby(factor)\n",
    "    count_by_factor = by_factor['Survived'].sum()\n",
    "    survival_rate = count_by_factor / survivor_count * 100\n",
    "    print('Survival rates:', survival_rate, '\\n \\n', 'Counts: ', count_by_factor)\n",
    "    return survival_rate, count_by_factor"
   ]
  },
  {
   "cell_type": "markdown",
   "metadata": {},
   "source": [
    "### 存活率和票价等级的相关性 - Correlation between survival and ticket class"
   ]
  },
  {
   "cell_type": "markdown",
   "metadata": {},
   "source": [
    "让我们看看社会经济地位是如何影响生存的。\n",
    "\n",
    "首先，我们应该对舱位等级对应的乘客总数有个粗略的了解。"
   ]
  },
  {
   "cell_type": "code",
   "execution_count": 12,
   "metadata": {},
   "outputs": [],
   "source": [
    "total_passenger_count = len(df['Pclass'])\n",
    "first_class_count = (df['Pclass'] == 1).sum()\n",
    "second_class_count = (df['Pclass'] == 2).sum()\n",
    "third_class_count = (df['Pclass'] == 3).sum()\n",
    "\n",
    "per_first_class =  first_class_count / total_passenger_count * 100\n",
    "per_second_class = second_class_count / total_passenger_count * 100\n",
    "per_third_class = third_class_count / total_passenger_count * 100"
   ]
  },
  {
   "cell_type": "code",
   "execution_count": 13,
   "metadata": {},
   "outputs": [
    {
     "name": "stdout",
     "output_type": "stream",
     "text": [
      "头等舱比例 = 24.24%  | 舱位人数:  216\n",
      "公务舱比例 = 20.65%  | 舱位人数:  184\n",
      "杰克舱比例 = 55.11%  | 舱位人数:  491\n"
     ]
    }
   ],
   "source": [
    "print('头等舱比例 = %.2f%%'% per_first_class, ' | 舱位人数: ', first_class_count)\n",
    "print('公务舱比例 = %.2f%%'% per_second_class, ' | 舱位人数: ', second_class_count)\n",
    "print('杰克舱比例 = %.2f%%'% per_third_class, ' | 舱位人数: ', third_class_count)"
   ]
  },
  {
   "cell_type": "markdown",
   "metadata": {},
   "source": [
    "通过上面数据我们可以看出：\n",
    "\n",
    "- 头等舱约占船上乘客总数的四分之一（约24%）。\n",
    "- 公务舱只占船上乘客的四分之一不到（约21%）。\n",
    "- 杰克舱占船上乘客的一半以上（约55%）。\n",
    "\n",
    "接下来让我们把这些数据与生存百分比进行比较。"
   ]
  },
  {
   "cell_type": "code",
   "execution_count": 14,
   "metadata": {},
   "outputs": [
    {
     "name": "stdout",
     "output_type": "stream",
     "text": [
      "Survival rates: Pclass\n",
      "1    39.766082\n",
      "2    25.438596\n",
      "3    34.795322\n",
      "Name: Survived, dtype: float64 \n",
      " \n",
      " Counts:  Pclass\n",
      "1    136\n",
      "2     87\n",
      "3    119\n",
      "Name: Survived, dtype: int64\n"
     ]
    },
    {
     "data": {
      "text/plain": [
       "(Pclass\n",
       " 1    39.766082\n",
       " 2    25.438596\n",
       " 3    34.795322\n",
       " Name: Survived, dtype: float64, Pclass\n",
       " 1    136\n",
       " 2     87\n",
       " 3    119\n",
       " Name: Survived, dtype: int64)"
      ]
     },
     "execution_count": 14,
     "metadata": {},
     "output_type": "execute_result"
    }
   ],
   "source": [
    "get_survival_rate(df, 'Pclass')"
   ]
  },
  {
   "cell_type": "markdown",
   "metadata": {},
   "source": [
    "通过上面所得生存率，我们可以看到：\n",
    "\n",
    "- **头等舱**乘客占船上总人数的24%，其中40%的人员幸存\n",
    "- **公务舱**乘客占船上总人数的21%，其中25%的人员幸存\n",
    "- **杰克舱**乘客占船上总人数的55%，其中34%的人员幸存\n",
    "\n",
    "下面我们会把这些结果可视化，这样会更为直观地理解这些数据。\n",
    "\n",
    "准确地说，让我们看看存活率和死亡率是如何根据船舱等级，以绝对数量和百分比的方式进行展现的。\n",
    "\n",
    "我们首先要定义一个函数get_counts()，它允许我们根据特定的质量来获得死亡和生存的精确计数。\n",
    "\n",
    "我们将在整个分析过程中重复使用这个函数（除了我们的年龄分析）。"
   ]
  },
  {
   "cell_type": "code",
   "execution_count": 15,
   "metadata": {},
   "outputs": [],
   "source": [
    "def get_counts(dataframe, factor, quality, status):\n",
    "    '''\n",
    "    dataframe - 应用该函数的数据框架\n",
    "    factor - 执行分析的列\n",
    "    quality - 执行分析的质量\n",
    "    status - 你想计算的状态：生存或死亡。应该是一个布尔值（1代表生存，0代表死亡）。\n",
    "    '''\n",
    "    target = dataframe[factor].where(dataframe[factor] == quality)\n",
    "    class_count = target.where(dataframe['Survived'] == status).count()\n",
    "    return class_count"
   ]
  },
  {
   "cell_type": "code",
   "execution_count": 16,
   "metadata": {},
   "outputs": [],
   "source": [
    "class1_survival_count = get_counts(df, 'Pclass', 1, 1)\n",
    "class2_survival_count = get_counts(df, 'Pclass', 2, 1)\n",
    "class3_survival_count = get_counts(df, 'Pclass', 3, 1)\n",
    "class1_death_count = get_counts(df, 'Pclass', 1, 0)\n",
    "class2_death_count = get_counts(df, 'Pclass', 2, 0)\n",
    "class3_death_count = get_counts(df, 'Pclass', 3, 0)"
   ]
  },
  {
   "cell_type": "code",
   "execution_count": 17,
   "metadata": {},
   "outputs": [
    {
     "name": "stdout",
     "output_type": "stream",
     "text": [
      "按舱位统计生存人数\n",
      "头等舱: 136\n",
      "公务舱: 87\n",
      "杰克舱: 119\n",
      "\n",
      "按舱位统计死亡人数\n",
      "头等舱: 80\n",
      "公务舱: 97\n",
      "杰克舱: 372\n"
     ]
    }
   ],
   "source": [
    "print('按舱位统计生存人数')\n",
    "print('头等舱:', class1_survival_count)\n",
    "print('公务舱:', class2_survival_count)\n",
    "print('杰克舱:', class3_survival_count)\n",
    "print('\\n按舱位统计死亡人数')\n",
    "print('头等舱:', class1_death_count)\n",
    "print('公务舱:', class2_death_count)\n",
    "print('杰克舱:', class3_death_count)"
   ]
  },
  {
   "cell_type": "code",
   "execution_count": 18,
   "metadata": {},
   "outputs": [
    {
     "ename": "SyntaxError",
     "evalue": "invalid character in identifier (<ipython-input-18-d6d7d0faa82d>, line 1)",
     "output_type": "error",
     "traceback": [
      "\u001b[0;36m  File \u001b[0;32m\"<ipython-input-18-d6d7d0faa82d>\"\u001b[0;36m, line \u001b[0;32m1\u001b[0m\n\u001b[0;31m    现在我们有了数据，可以将结果可视化了。\u001b[0m\n\u001b[0m                      ^\u001b[0m\n\u001b[0;31mSyntaxError\u001b[0m\u001b[0;31m:\u001b[0m invalid character in identifier\n"
     ]
    }
   ],
   "source": [
    "现在我们有了数据，可以将结果可视化了。\n",
    "\n",
    "我们将定义第二个辅助函数gen_plot()，它将生成两个柱状图：一个绘制绝对值，另一个绘制百分比。"
   ]
  },
  {
   "cell_type": "code",
   "execution_count": 61,
   "metadata": {},
   "outputs": [],
   "source": [
    "import matplotlib.pyplot as plt\n",
    "import seaborn as sns\n",
    "\n",
    "# 中文处理\n",
    "import matplotlib\n",
    "\n",
    "# 使用中文字体\n",
    "matplotlib.rcParams['font.family'] = ['Heiti TC']\n",
    "\n",
    "def gen_plot(survival_array, death_array, by_factor, x_ticks):\n",
    "    \"\"\"\n",
    "    survival_array：一个提供被分析的生存数据的列表\n",
    "    death_array：提供被分析的死亡数据的列表\n",
    "    by_title：分析的重点因素\n",
    "    x_ticks：例如: ['头等舱', '二等舱', '三等舱']\n",
    "    \"\"\"\n",
    "    \n",
    "    abs_survival_list = np.array(survival_array)\n",
    "    abs_death_list = np.array(death_array)\n",
    "    N = len(abs_survival_list)\n",
    "    ind = np.arange(N)\n",
    "    width = 1 / N\n",
    "\n",
    "    f, (ax1, ax2) = plt.subplots(1, 2, figsize=(10,5))\n",
    "\n",
    "\n",
    "    # 按数量统计\n",
    "    \n",
    "    ax1.bar(ind, abs_survival_list, width, label='生存', alpha=0.8) # Survival\n",
    "    ax1.bar(ind, abs_death_list, width, color='#d62728', label='死亡', alpha=0.8, bottom=abs_survival_list) # Death\n",
    "\n",
    "    plt.sca(ax1)\n",
    "    plt.xticks(ind, x_ticks)\n",
    "\n",
    "    ax1.set_title(by_factor+'（按数量统计）',fontproperties=prop) # Absolute count\n",
    "    ax1.set_ylabel('人数', fontproperties=prop) # Count\n",
    "    ax1.legend(loc='upper left')\n",
    "\n",
    "    plt.setp(plt.gca().get_xticklabels(), rotation=0) # rotation=45\n",
    "\n",
    "    # 按比例统计\n",
    "    per_survival_list = (abs_survival_list / (abs_survival_list + abs_death_list)) * 100\n",
    "    per_death_list = (abs_death_list / (abs_survival_list + abs_death_list)) * 100\n",
    "\n",
    "    ax2.bar(ind, per_survival_list, width, label='幸存比例', alpha=0.8)\n",
    "    ax2.bar(ind, per_death_list, width, color='#d62728', label='死亡比例', alpha=0.8, bottom=per_survival_list)\n",
    "\n",
    "    plt.sca(ax2)\n",
    "    plt.xticks(ind, x_ticks)\n",
    "\n",
    "    ax2.set_title(by_factor+'（按比例统计）')\n",
    "    ax2.set_ylabel('比例')\n",
    "\n",
    "    plt.setp(plt.gca().get_xticklabels(), rotation=0) # rotation=45\n",
    "    ax2.figure.savefig('desktop/按比例统计%s.png' % by_factor, dpi=300)\n",
    "    \n",
    "\n",
    "    return plt.show()"
   ]
  },
  {
   "cell_type": "code",
   "execution_count": 62,
   "metadata": {},
   "outputs": [],
   "source": [
    "# 在线模式展示图表\n",
    "%matplotlib inline"
   ]
  },
  {
   "cell_type": "markdown",
   "metadata": {},
   "source": [
    "我们现在可以绘制柱状图以进行**舱位**分析。"
   ]
  },
  {
   "cell_type": "code",
   "execution_count": 63,
   "metadata": {},
   "outputs": [
    {
     "data": {
      "image/png": "[encoded data removed]",
      "text/plain": [
       "<Figure size 720x360 with 2 Axes>"
      ]
     },
     "metadata": {
      "needs_background": "light"
     },
     "output_type": "display_data"
    }
   ],
   "source": [
    "gen_plot([class1_survival_count, class2_survival_count, class3_survival_count],\n",
    "         [class1_death_count, class2_death_count, class3_death_count],\n",
    "         '舱位',\n",
    "         ['头等舱', '公务舱', '杰克舱'])"
   ]
  },
  {
   "cell_type": "markdown",
   "metadata": {},
   "source": [
    "我们可以看到，死亡几率和舱位等级之间有明显的关联：你的舱位等级越高，你的生存机会也就越高。"
   ]
  },
  {
   "cell_type": "code",
   "execution_count": 64,
   "metadata": {},
   "outputs": [
    {
     "data": {
      "text/plain": [
       "Power_divergenceResult(statistic=1592.1666666666665, pvalue=2.0399395484622444e-42)"
      ]
     },
     "execution_count": 64,
     "metadata": {},
     "output_type": "execute_result"
    }
   ],
   "source": [
    "stats.chisquare(df['Survived'], df['Pclass'])"
   ]
  },
  {
   "cell_type": "markdown",
   "metadata": {},
   "source": [
    "### 生成几率和性别之间的关联"
   ]
  },
  {
   "cell_type": "markdown",
   "metadata": {},
   "source": [
    "现在让我们分析一下性别对生存机会的影响。\n",
    "\n",
    "首先，我们将定义一个类似于票务类的函数，以获得按性别分列的生存者和死亡人数。"
   ]
  },
  {
   "cell_type": "code",
   "execution_count": 65,
   "metadata": {},
   "outputs": [],
   "source": [
    "female_survival_count = get_counts(df, 'Sex', 'female', 1)\n",
    "male_survival_count = get_counts(df, 'Sex', 'male', 1)\n",
    "female_death_count = get_counts(df, 'Sex', 'female', 0)\n",
    "male_death_count = get_counts(df, 'Sex', 'male', 0)"
   ]
  },
  {
   "cell_type": "code",
   "execution_count": 66,
   "metadata": {},
   "outputs": [
    {
     "name": "stdout",
     "output_type": "stream",
     "text": [
      "按性别区分的幸存人数\n",
      "女性幸存者:  233\n",
      "男性幸存者:  109\n",
      "\n",
      "按性别区分的死亡人数\n",
      "女性死亡人数:  81\n",
      "男性死亡人数:  468\n"
     ]
    }
   ],
   "source": [
    "print('按性别区分的幸存人数')\n",
    "print('女性幸存者: ', female_survival_count)\n",
    "print('男性幸存者: ', male_survival_count)\n",
    "print('\\n按性别区分的死亡人数')\n",
    "print('女性死亡人数: ', female_death_count)\n",
    "print('男性死亡人数: ', male_death_count)"
   ]
  },
  {
   "cell_type": "code",
   "execution_count": 67,
   "metadata": {},
   "outputs": [
    {
     "data": {
      "image/png": "[encoded data removed]",
      "text/plain": [
       "<Figure size 720x360 with 2 Axes>"
      ]
     },
     "metadata": {
      "needs_background": "light"
     },
     "output_type": "display_data"
    }
   ],
   "source": [
    "gen_plot([female_survival_count, male_survival_count],\n",
    "         [female_death_count, male_death_count],\n",
    "         '性别',\n",
    "         ['女性', '男性'])"
   ]
  },
  {
   "cell_type": "markdown",
   "metadata": {},
   "source": [
    "让我们给它加上一个数字。\n",
    "\n",
    "首先，我们需要创建一个新的DataFrame，在这里我们将替换非int值：女性将是1，男性将是0。"
   ]
  },
  {
   "cell_type": "code",
   "execution_count": 68,
   "metadata": {},
   "outputs": [
    {
     "data": {
      "text/html": [
       "<div>\n",
       "<style scoped>\n",
       "    .dataframe tbody tr th:only-of-type {\n",
       "        vertical-align: middle;\n",
       "    }\n",
       "\n",
       "    .dataframe tbody tr th {\n",
       "        vertical-align: top;\n",
       "    }\n",
       "\n",
       "    .dataframe thead th {\n",
       "        text-align: right;\n",
       "    }\n",
       "</style>\n",
       "<table border=\"1\" class=\"dataframe\">\n",
       "  <thead>\n",
       "    <tr style=\"text-align: right;\">\n",
       "      <th></th>\n",
       "      <th>Sex</th>\n",
       "      <th>Survived</th>\n",
       "    </tr>\n",
       "  </thead>\n",
       "  <tbody>\n",
       "    <tr>\n",
       "      <td>Sex</td>\n",
       "      <td>1.000000</td>\n",
       "      <td>0.543351</td>\n",
       "    </tr>\n",
       "    <tr>\n",
       "      <td>Survived</td>\n",
       "      <td>0.543351</td>\n",
       "      <td>1.000000</td>\n",
       "    </tr>\n",
       "  </tbody>\n",
       "</table>\n",
       "</div>"
      ],
      "text/plain": [
       "               Sex  Survived\n",
       "Sex       1.000000  0.543351\n",
       "Survived  0.543351  1.000000"
      ]
     },
     "execution_count": 68,
     "metadata": {},
     "output_type": "execute_result"
    }
   ],
   "source": [
    "gender_df = df[['Sex', 'Survived']]\n",
    "gender_df.replace(['male', 'female'], [0, 1], inplace=True)\n",
    "\n",
    "gender_df[['Sex', 'Survived']].corr(method='pearson')"
   ]
  },
  {
   "cell_type": "markdown",
   "metadata": {},
   "source": [
    "根据以上的分析，我们得出生存和性别之间有适度的相关性的结论。\n",
    "\n",
    "女性比男性有更高的生存机会\n",
    "\n",
    "头等舱的乘客比杰克舱的乘客有更高的生存机会\n",
    "\n",
    "那么头等舱女性的生存机会与三等舱男性的生存机会相比如何？"
   ]
  },
  {
   "cell_type": "code",
   "execution_count": 69,
   "metadata": {},
   "outputs": [
    {
     "data": {
      "text/plain": [
       "Sex     Pclass\n",
       "female  1         96.808511\n",
       "        2         92.105263\n",
       "        3         50.000000\n",
       "male    1         36.885246\n",
       "        2         15.740741\n",
       "        3         13.544669\n",
       "Name: Survived, dtype: float64"
      ]
     },
     "execution_count": 69,
     "metadata": {},
     "output_type": "execute_result"
    }
   ],
   "source": [
    "df.groupby(['Sex', 'Pclass'])['Survived'].mean() * 100"
   ]
  },
  {
   "cell_type": "markdown",
   "metadata": {},
   "source": [
    "- 头等舱女性的生存机会：≈96.80%\n",
    "- 杰克舱男人的生存机会：≈13.54%\n",
    "\n",
    "这无疑解释了只要学好Pandas之后的杰克，应该早就预测到了电影的结局..."
   ]
  },
  {
   "cell_type": "markdown",
   "metadata": {},
   "source": [
    "### 生存几率与年龄之间地关联关系"
   ]
  },
  {
   "cell_type": "markdown",
   "metadata": {},
   "source": [
    "**线性回归分析**"
   ]
  },
  {
   "cell_type": "markdown",
   "metadata": {},
   "source": [
    "现在我们要研究的是年龄对生存机会的影响。\n",
    "\n",
    "我们要看一下与老年人相比儿童的存活率会怎么样。\n",
    "\n",
    "记住，我们这里有177个NaN（非数字）值。我们将不得不把我们的数据削减20%。\n",
    "这并不理想，你应该总是试图找到一个解决方案，以保存尽可能多的数据，但在像这样的情况下，我们真的没有选择。\n",
    "\n",
    "首先，让我们摆脱 NaN 值"
   ]
  },
  {
   "cell_type": "code",
   "execution_count": 70,
   "metadata": {},
   "outputs": [
    {
     "data": {
      "text/plain": [
       "(714, 2)"
      ]
     },
     "execution_count": 70,
     "metadata": {},
     "output_type": "execute_result"
    }
   ],
   "source": [
    "df_age = df[['Age' , 'Survived']].dropna(how='any')\n",
    "df_age['Age'] = (np.floor(df_age['Age'])).astype(int)\n",
    "df_age.shape"
   ]
  },
  {
   "cell_type": "code",
   "execution_count": 71,
   "metadata": {},
   "outputs": [
    {
     "data": {
      "text/html": [
       "<div>\n",
       "<style scoped>\n",
       "    .dataframe tbody tr th:only-of-type {\n",
       "        vertical-align: middle;\n",
       "    }\n",
       "\n",
       "    .dataframe tbody tr th {\n",
       "        vertical-align: top;\n",
       "    }\n",
       "\n",
       "    .dataframe thead th {\n",
       "        text-align: right;\n",
       "    }\n",
       "</style>\n",
       "<table border=\"1\" class=\"dataframe\">\n",
       "  <thead>\n",
       "    <tr style=\"text-align: right;\">\n",
       "      <th></th>\n",
       "      <th>Age</th>\n",
       "      <th>Survived</th>\n",
       "    </tr>\n",
       "    <tr>\n",
       "      <th>PassengerId</th>\n",
       "      <th></th>\n",
       "      <th></th>\n",
       "    </tr>\n",
       "  </thead>\n",
       "  <tbody>\n",
       "    <tr>\n",
       "      <td>1</td>\n",
       "      <td>22</td>\n",
       "      <td>0</td>\n",
       "    </tr>\n",
       "    <tr>\n",
       "      <td>2</td>\n",
       "      <td>38</td>\n",
       "      <td>1</td>\n",
       "    </tr>\n",
       "    <tr>\n",
       "      <td>3</td>\n",
       "      <td>26</td>\n",
       "      <td>1</td>\n",
       "    </tr>\n",
       "    <tr>\n",
       "      <td>4</td>\n",
       "      <td>35</td>\n",
       "      <td>1</td>\n",
       "    </tr>\n",
       "    <tr>\n",
       "      <td>5</td>\n",
       "      <td>35</td>\n",
       "      <td>0</td>\n",
       "    </tr>\n",
       "  </tbody>\n",
       "</table>\n",
       "</div>"
      ],
      "text/plain": [
       "             Age  Survived\n",
       "PassengerId               \n",
       "1             22         0\n",
       "2             38         1\n",
       "3             26         1\n",
       "4             35         1\n",
       "5             35         0"
      ]
     },
     "execution_count": 71,
     "metadata": {},
     "output_type": "execute_result"
    }
   ],
   "source": [
    "df_age.head()"
   ]
  },
  {
   "cell_type": "markdown",
   "metadata": {},
   "source": [
    "我们统计了177个缺失值。\n",
    "\n",
    "在删除它们之后，我们得到一个有714行的新数据框架df_age。"
   ]
  },
  {
   "cell_type": "code",
   "execution_count": 73,
   "metadata": {},
   "outputs": [
    {
     "name": "stdout",
     "output_type": "stream",
     "text": [
      "最年轻的: 0月\n",
      "\n",
      "最年长的: 80岁\n"
     ]
    }
   ],
   "source": [
    "print('最年轻的: ' + str(df_age['Age'].min() * 12) + '月')\n",
    "print('\\n最年长的: ' + str(df_age['Age'].max()) + '岁')"
   ]
  },
  {
   "cell_type": "markdown",
   "metadata": {},
   "source": [
    "为了这次分析，我们把年龄四舍五入，所以船上最年轻的乘客只有几个月大，而最年长的是80岁。\n",
    "\n",
    "现在让我们对数据进行排序，并创建一个新的DataFrame df_ages_survival。它将以年龄为索引。每个年龄段有4列，将给我们提供以下信息。\n",
    "\n",
    "- 指数年龄的乘客存活的人数\n",
    "\n",
    "- 死亡的指数年龄的乘客人数\n",
    "\n",
    "- 指数年龄的乘客总数\n",
    "\n",
    "- 该指数年龄的幸存者的百分比"
   ]
  },
  {
   "cell_type": "code",
   "execution_count": 74,
   "metadata": {},
   "outputs": [
    {
     "data": {
      "text/plain": [
       "array([ 0,  1,  2,  3,  4,  5,  6,  7,  8,  9, 10, 11, 12, 13, 14, 15, 16,\n",
       "       17, 18, 19, 20, 21, 22, 23, 24, 25, 26, 27, 28, 29, 30, 31, 32, 33,\n",
       "       34, 35, 36, 37, 38, 39, 40, 41, 42, 43, 44, 45, 46, 47, 48, 49, 50,\n",
       "       51, 52, 53, 54, 55, 56, 57, 58, 59, 60, 61, 62, 63, 64, 65, 66, 70,\n",
       "       71, 74, 80])"
      ]
     },
     "execution_count": 74,
     "metadata": {},
     "output_type": "execute_result"
    }
   ],
   "source": [
    "ages_list = df_age['Age'].unique()\n",
    "ages_list.sort()\n",
    "ages_list"
   ]
  },
  {
   "cell_type": "code",
   "execution_count": 80,
   "metadata": {},
   "outputs": [
    {
     "data": {
      "text/html": [
       "<div>\n",
       "<style scoped>\n",
       "    .dataframe tbody tr th:only-of-type {\n",
       "        vertical-align: middle;\n",
       "    }\n",
       "\n",
       "    .dataframe tbody tr th {\n",
       "        vertical-align: top;\n",
       "    }\n",
       "\n",
       "    .dataframe thead th {\n",
       "        text-align: right;\n",
       "    }\n",
       "</style>\n",
       "<table border=\"1\" class=\"dataframe\">\n",
       "  <thead>\n",
       "    <tr style=\"text-align: right;\">\n",
       "      <th></th>\n",
       "      <th>幸存</th>\n",
       "      <th>死亡</th>\n",
       "      <th>合计</th>\n",
       "      <th>比例</th>\n",
       "    </tr>\n",
       "  </thead>\n",
       "  <tbody>\n",
       "    <tr>\n",
       "      <td>0</td>\n",
       "      <td>7</td>\n",
       "      <td>0</td>\n",
       "      <td>7</td>\n",
       "      <td>100.00</td>\n",
       "    </tr>\n",
       "    <tr>\n",
       "      <td>1</td>\n",
       "      <td>5</td>\n",
       "      <td>2</td>\n",
       "      <td>7</td>\n",
       "      <td>71.43</td>\n",
       "    </tr>\n",
       "    <tr>\n",
       "      <td>2</td>\n",
       "      <td>3</td>\n",
       "      <td>7</td>\n",
       "      <td>10</td>\n",
       "      <td>30.00</td>\n",
       "    </tr>\n",
       "    <tr>\n",
       "      <td>3</td>\n",
       "      <td>5</td>\n",
       "      <td>1</td>\n",
       "      <td>6</td>\n",
       "      <td>83.33</td>\n",
       "    </tr>\n",
       "    <tr>\n",
       "      <td>4</td>\n",
       "      <td>7</td>\n",
       "      <td>3</td>\n",
       "      <td>10</td>\n",
       "      <td>70.00</td>\n",
       "    </tr>\n",
       "  </tbody>\n",
       "</table>\n",
       "</div>"
      ],
      "text/plain": [
       "   幸存  死亡  合计      比例\n",
       "0   7   0   7  100.00\n",
       "1   5   2   7   71.43\n",
       "2   3   7  10   30.00\n",
       "3   5   1   6   83.33\n",
       "4   7   3  10   70.00"
      ]
     },
     "execution_count": 80,
     "metadata": {},
     "output_type": "execute_result"
    }
   ],
   "source": [
    "df_ages_survival = pd.DataFrame(index=ages_list, columns=['幸存', '死亡', '合计', '比例'])\n",
    "\n",
    "df_ages_survival['幸存'] = df_age.groupby('Age')['Survived'].sum()\n",
    "df_ages_survival['合计'] = df_age.groupby('Age').count()\n",
    "df_ages_survival['死亡'] = df_ages_survival['合计'] - df_ages_survival['幸存']\n",
    "df_ages_survival['比例'] = round(df_age.groupby('Age')['Survived'].mean() * 100, 2)\n",
    "\n",
    "# for age in ages_list:\n",
    "#     df_ages_survival.loc[age]['Survived'] = (df_age['Age'] == age).where(df_age['Survived'] == 1).sum()\n",
    "#     df_ages_survival.loc[age]['Total'] = (df_age['Age'] == age).sum()\n",
    "#     df_ages_survival.loc[age]['Deaths'] = df_ages_survival.loc[age]['Total'] - df_ages_survival.loc[age]['Survived']\n",
    "#     df_ages_survival.loc[age]['Percentage'] = (df_ages_survival.loc[age]['Survived'] / df_ages_survival.loc[age]['Total']) * 100\n",
    "#     \n",
    "# df_ages_survival.head()\n",
    "\n",
    "df_ages_survival.head()"
   ]
  },
  {
   "cell_type": "markdown",
   "metadata": {},
   "source": [
    "让我们看看我们的数据的散点图，看看我们是否能识别任何异常值。"
   ]
  },
  {
   "cell_type": "code",
   "execution_count": 92,
   "metadata": {},
   "outputs": [],
   "source": [
    "# 使用本地已有字体文件\n",
    "import matplotlib.font_manager\n",
    "\n",
    "font_zh=matplotlib.font_manager.FontProperties(fname='/users/liqiang/Downloads/超清区常用字幕字体/造字工房坚黑常规体.ttf')"
   ]
  },
  {
   "cell_type": "code",
   "execution_count": 93,
   "metadata": {},
   "outputs": [
    {
     "data": {
      "image/png": "[encoded data removed]",
      "text/plain": [
       "<Figure size 432x288 with 1 Axes>"
      ]
     },
     "metadata": {
      "needs_background": "light"
     },
     "output_type": "display_data"
    }
   ],
   "source": [
    "x = df_ages_survival['比例'].index\n",
    "y = df_ages_survival['比例']\n",
    "plt.scatter(x, y)\n",
    "m, b = np.polyfit(x, y, 1)\n",
    "plt.plot(x, y, '.')\n",
    "plt.title('根据年龄统计幸存比例',fontproperties=font_zh, fontsize=15)\n",
    "plt.xlabel('年龄')\n",
    "plt.ylabel('幸存比例')\n",
    "plt.show()"
   ]
  },
  {
   "cell_type": "markdown",
   "metadata": {},
   "source": [
    "我们可以确定一种趋势，其中较低的 y 值代表较高的 x 坐标，而较高的 y 值代表较低的 x 坐标。\n",
    "\n",
    "这意味着，很明显，你越年轻，你生存的机会就越大。\n",
    "\n",
    "然而，在图表的右上角有三个点似乎是异常值。\n",
    "\n",
    "它们不能代表一般的趋势: 让我们识别它们，将它们从 DataFrame 中删除，重新绘制它并适合一条回归线。"
   ]
  },
  {
   "cell_type": "code",
   "execution_count": 94,
   "metadata": {
    "scrolled": true
   },
   "outputs": [
    {
     "data": {
      "image/png": "[encoded data removed]",
      "text/plain": [
       "<Figure size 432x288 with 1 Axes>"
      ]
     },
     "metadata": {
      "needs_background": "light"
     },
     "output_type": "display_data"
    }
   ],
   "source": [
    "df_ages_survival = df_ages_survival.drop(df_ages_survival[(df_ages_survival['比例'] == 100) & (df_ages_survival.index > 50)].index)\n",
    "x = df_ages_survival['比例'].index\n",
    "y = df_ages_survival['比例']\n",
    "plt.scatter(x, y)\n",
    "m, b = np.polyfit(x, y, 1)\n",
    "plt.plot(x, y, '.')\n",
    "plt.plot(x, m*x + b, '-')\n",
    "plt.title('年龄幸存比',fontproperties=font_zh, fontsize=15)\n",
    "plt.xlabel('年龄')\n",
    "plt.ylabel('幸存比例')\n",
    "plt.show()"
   ]
  },
  {
   "cell_type": "markdown",
   "metadata": {},
   "source": [
    "回归线清楚地表明，你越**年轻**，你的生存机会就越高。让我们来了解一下回归线的信息（尤其是斜率）。"
   ]
  },
  {
   "cell_type": "code",
   "execution_count": 95,
   "metadata": {},
   "outputs": [
    {
     "name": "stdout",
     "output_type": "stream",
     "text": [
      "Slope:  -0.6731448575214685\n",
      "Intercept:  61.93830324815576\n",
      "r_value:  -0.5279643944469163\n",
      "r_squared:  0.2787464018036991\n",
      "p_value:  3.7119198819981097e-06\n",
      "std_error:  0.13328335798924698\n"
     ]
    }
   ],
   "source": [
    "slope, intercept, r_value, p_value, std_err = stats.linregress(x, y)\n",
    "\n",
    "print('Slope: ', slope)\n",
    "print('Intercept: ', intercept)\n",
    "print('r_value: ', r_value)\n",
    "print('r_squared: ', r_value ** 2)\n",
    "print('p_value: ', p_value)\n",
    "print('std_error: ', std_err)"
   ]
  },
  {
   "cell_type": "markdown",
   "metadata": {},
   "source": [
    "现在这已经足够获得一些深入的了解，但是也许还有一个更好的方法来可视化这些数据。\n",
    "\n",
    "让我们根据生存状态绘制一个年龄的核密度估计:"
   ]
  },
  {
   "cell_type": "code",
   "execution_count": 100,
   "metadata": {},
   "outputs": [
    {
     "data": {
      "image/png": "[encoded data removed]",
      "text/plain": [
       "<Figure size 432x288 with 1 Axes>"
      ]
     },
     "metadata": {
      "needs_background": "light"
     },
     "output_type": "display_data"
    }
   ],
   "source": [
    "age_bins = np.arange(0, 100, 4)\n",
    "sns.distplot(df.loc[(df['Survived']==0) & (~df['Age'].isnull()),'Age'], bins=age_bins, color='#d62728')\n",
    "sns.distplot(df.loc[(df['Survived']==1) & (~df['Age'].isnull()),'Age'], bins=age_bins)\n",
    "plt.title('生存等级之间的年龄分布',fontproperties=font_zh, fontsize=15)\n",
    "plt.ylabel('频次')\n",
    "plt.xlabel('年龄')\n",
    "plt.legend(['没能活下来的', '幸存下来的'])\n",
    "plt.show()"
   ]
  },
  {
   "cell_type": "markdown",
   "metadata": {},
   "source": [
    "我们可以肯定地看到，当年龄较小时，存活乘客的分布会出现尖峰，这表明儿童的存活率较高。"
   ]
  },
  {
   "cell_type": "markdown",
   "metadata": {},
   "source": [
    "### 特定年龄分析"
   ]
  },
  {
   "cell_type": "markdown",
   "metadata": {},
   "source": [
    "我们将继续并加强我们的分析，对两个具体的年龄段进行更多的说明，这样我们也有一个基准。我们将使用一个条形图。\n",
    "\n",
    "我们将分析6岁和12岁，但你可以用你选择的年龄来改变我们要定义的函数中的年龄参数。\n",
    "\n",
    "下面是一个类似于get_counts的新函数。它将适合我们分析的劣等条件，并返回两种配置的生存和死亡计数，以用户定义的年龄作为参数。"
   ]
  },
  {
   "cell_type": "code",
   "execution_count": 101,
   "metadata": {},
   "outputs": [],
   "source": [
    "def get_age_counts(age):\n",
    "    '''\n",
    "    age - 适用于分析的年龄限制\n",
    "    该函数依次返回小于或等于指定年龄的人和大于指定年龄的人的生存数。\n",
    "    以及小于或等于指定年龄的人和大于指定年龄的人的死亡数。\n",
    "    '''\n",
    "    younger_target = df['Age'].where(df['Age'] <= age)\n",
    "    older_target = df['Age'].where(df['Age'] > age)\n",
    "    younger_survival_count = younger_target.where(df['Survived'] == 1).count()\n",
    "    older_survival_count = older_target.where(df['Survived'] == 1).count()\n",
    "    younger_death_count = younger_target.where(df['Survived'] == 0).count()\n",
    "    older_death_count = older_target.where(df['Survived'] == 0).count()\n",
    "    return younger_survival_count, older_survival_count, younger_death_count, older_death_count"
   ]
  },
  {
   "cell_type": "code",
   "execution_count": 103,
   "metadata": {},
   "outputs": [
    {
     "name": "stdout",
     "output_type": "stream",
     "text": [
      "年龄限定=6\n",
      "6岁以下儿童的存活人数:  33\n",
      "6岁以上人群的生存人数:  257\n",
      "6岁以下儿童的死亡人数:  14\n",
      "6岁以上人群的死亡人数:  410\n",
      "\n",
      "年龄限定=12\n",
      "12岁以下儿童的存活人数:  40\n",
      "12岁以上人群的生存人数:  250\n",
      "12岁以下儿童的死亡人数:  29\n",
      "12岁以上人群的死亡人数:  395\n"
     ]
    }
   ],
   "source": [
    "up_to_6_survival_count, over_6_survival_count, up_to_6_death_count, over_6_death_count = get_age_counts(6)\n",
    "up_to_12_survival_count, over_12_survival_count, up_to_12_death_count, over_12_death_count = get_age_counts(12)\n",
    "\n",
    "print('年龄限定=6')\n",
    "print('6岁以下儿童的存活人数: ', up_to_6_survival_count)\n",
    "print('6岁以上人群的生存人数: ', over_6_survival_count)\n",
    "print('6岁以下儿童的死亡人数: ', up_to_6_death_count)\n",
    "print('6岁以上人群的死亡人数: ', over_6_death_count)\n",
    "\n",
    "print('\\n年龄限定=12')\n",
    "print('12岁以下儿童的存活人数: ', up_to_12_survival_count)\n",
    "print('12岁以上人群的生存人数: ', over_12_survival_count)\n",
    "print('12岁以下儿童的死亡人数: ', up_to_12_death_count)\n",
    "print('12岁以上人群的死亡人数: ', over_12_death_count)"
   ]
  },
  {
   "cell_type": "markdown",
   "metadata": {},
   "source": [
    "现在我们已经准备好建立我们的柱状图了。看一下图表，我们的超过6和超过12的计数和百分比可能会看起来是一样的。"
   ]
  },
  {
   "cell_type": "code",
   "execution_count": 105,
   "metadata": {},
   "outputs": [
    {
     "data": {
      "image/png": "[encoded data removed]",
      "text/plain": [
       "<Figure size 720x360 with 2 Axes>"
      ]
     },
     "metadata": {
      "needs_background": "light"
     },
     "output_type": "display_data"
    }
   ],
   "source": [
    "# 绘制6岁图表\n",
    "gen_plot([up_to_6_survival_count, over_6_survival_count],\n",
    "         [up_to_6_death_count, over_6_death_count],\n",
    "         '6岁图表',\n",
    "         ['小于6岁', '大于6岁'])"
   ]
  },
  {
   "cell_type": "code",
   "execution_count": 106,
   "metadata": {},
   "outputs": [
    {
     "data": {
      "image/png": "[encoded data removed]",
      "text/plain": [
       "<Figure size 720x360 with 2 Axes>"
      ]
     },
     "metadata": {
      "needs_background": "light"
     },
     "output_type": "display_data"
    }
   ],
   "source": [
    "# 绘制12岁图表\n",
    "gen_plot([up_to_12_survival_count, over_12_survival_count],\n",
    "         [up_to_12_death_count, over_12_death_count],\n",
    "         '12岁图表',\n",
    "         ['小于12岁', '大于12岁'])"
   ]
  },
  {
   "cell_type": "markdown",
   "metadata": {},
   "source": [
    "似乎6岁以下的儿童比6岁以上的人有更高的生存机会。\n",
    "\n",
    "另外，12岁以下的儿童似乎比12岁以上的人有更高的生存机会，但比6岁以下的人要低。\n",
    "\n",
    "这安慰了我们的第一个假设：你越年轻，你的生存机会就越高。"
   ]
  },
  {
   "cell_type": "markdown",
   "metadata": {},
   "source": [
    "### 存活率与登船港口的相关性"
   ]
  },
  {
   "cell_type": "markdown",
   "metadata": {},
   "source": [
    "我们最后的分析将根据登船的港口来研究生存的机会。\n",
    "泰坦尼克号的乘客从三个不同的港口登船。\n",
    "\n",
    "- 瑟堡(C)\n",
    "- 皇后镇(Q)\n",
    "- 南安普敦(S)\n",
    "\n",
    "在做任何事情之前，我们应该先粗略地了解一下船票等级在乘客总数中是如何划分的。"
   ]
  },
  {
   "cell_type": "code",
   "execution_count": 107,
   "metadata": {},
   "outputs": [],
   "source": [
    "total_passenger_count = len(df['Embarked'])\n",
    "cherbourg_count = (df['Embarked'] == 'C').sum()\n",
    "queenstown_count = (df['Embarked'] == 'Q').sum()\n",
    "southampton_count = (df['Embarked'] == 'S').sum()\n",
    "\n",
    "per_cherbourg =  cherbourg_count / total_passenger_count * 100\n",
    "per_queenstown = queenstown_count / total_passenger_count * 100\n",
    "per_southampton = southampton_count / total_passenger_count * 100"
   ]
  },
  {
   "cell_type": "code",
   "execution_count": 109,
   "metadata": {},
   "outputs": [
    {
     "name": "stdout",
     "output_type": "stream",
     "text": [
      "瑟堡 = 18.86%  | Count:  168\n",
      "皇后镇 = 8.64%  | Count:  77\n",
      "南安普顿 = 72.28%  | Count:  644\n"
     ]
    }
   ],
   "source": [
    "print('瑟堡 = %.2f%%'% per_cherbourg, ' | Count: ', cherbourg_count)\n",
    "print('皇后镇 = %.2f%%'% per_queenstown, ' | Count: ', queenstown_count)\n",
    "print('南安普顿 = %.2f%%'% per_southampton, ' | Count: ', southampton_count)"
   ]
  },
  {
   "cell_type": "markdown",
   "metadata": {},
   "source": [
    "我们看到：\n",
    "\n",
    "- 约19%的乘客从瑟堡登船\n",
    "- 约9%的乘客从皇后镇登船\n",
    "- 约72%的乘客从南安普敦上船"
   ]
  },
  {
   "cell_type": "code",
   "execution_count": 110,
   "metadata": {},
   "outputs": [
    {
     "name": "stdout",
     "output_type": "stream",
     "text": [
      "Survival rates: Embarked\n",
      "C    27.192982\n",
      "Q     8.771930\n",
      "S    63.450292\n",
      "Name: Survived, dtype: float64 \n",
      " \n",
      " Counts:  Embarked\n",
      "C     93\n",
      "Q     30\n",
      "S    217\n",
      "Name: Survived, dtype: int64\n"
     ]
    },
    {
     "data": {
      "text/plain": [
       "(Embarked\n",
       " C    27.192982\n",
       " Q     8.771930\n",
       " S    63.450292\n",
       " Name: Survived, dtype: float64, Embarked\n",
       " C     93\n",
       " Q     30\n",
       " S    217\n",
       " Name: Survived, dtype: int64)"
      ]
     },
     "execution_count": 110,
     "metadata": {},
     "output_type": "execute_result"
    }
   ],
   "source": [
    "get_survival_rate(df, 'Embarked')"
   ]
  },
  {
   "cell_type": "markdown",
   "metadata": {},
   "source": [
    "通过这些生存率，我们可以看到。\n",
    "- 来自瑟堡的乘客约占总人数的19%，但约占幸存者的27%。\n",
    "- 来自皇后镇的乘客约占人数的9%，而幸存者约占9%。\n",
    "- 来自南安普顿的乘客约占人数的72%，而幸存者约占63%。"
   ]
  },
  {
   "cell_type": "markdown",
   "metadata": {},
   "source": [
    "让我们把这些结果可视化，以获得更好的理解。\n",
    "\n",
    "准确地说，让我们看看生存率和死亡率是如何根据登船港的绝对数量和百分比演变的。\n",
    "\n",
    "我们将再次使用get_counts函数。"
   ]
  },
  {
   "cell_type": "code",
   "execution_count": 113,
   "metadata": {},
   "outputs": [],
   "source": [
    "cherbourg_survival_count = get_counts(df, 'Embarked', 'C', 1)\n",
    "queenstown_survival_count = get_counts(df, 'Embarked', 'Q', 1)\n",
    "southampton_survival_count = get_counts(df, 'Embarked', 'S', 1)\n",
    "cherbourg_death_count = get_counts(df, 'Embarked', 'C', 0)\n",
    "queenstown_death_count = get_counts(df, 'Embarked', 'Q', 0)\n",
    "southampton_death_count = get_counts(df, 'Embarked', 'S', 0)"
   ]
  },
  {
   "cell_type": "code",
   "execution_count": 116,
   "metadata": {},
   "outputs": [
    {
     "name": "stdout",
     "output_type": "stream",
     "text": [
      "根据登船港口的生存人数\n",
      "瑟堡生存计数： 93\n",
      "皇后镇级生存计数： 30\n",
      "南安普顿生存计数： 217\n",
      "\n",
      "按登船港统计的伤亡人数\n",
      "瑟堡死亡人数： 75\n",
      "皇后镇死亡人数： 47\n",
      "南安普顿死亡人数： 427\n"
     ]
    }
   ],
   "source": [
    "print('根据登船港口的生存人数')\n",
    "print('瑟堡生存计数：', cherbourg_survival_count)\n",
    "print('皇后镇级生存计数：', queenstown_survival_count)\n",
    "print('南安普顿生存计数：', southampton_survival_count)\n",
    "print('\\n按登船港统计的伤亡人数')\n",
    "print('瑟堡死亡人数：', cherbourg_death_count)\n",
    "print('皇后镇死亡人数：', queenstown_death_count)\n",
    "print('南安普顿死亡人数：', southampton_death_count)"
   ]
  },
  {
   "cell_type": "code",
   "execution_count": 117,
   "metadata": {},
   "outputs": [
    {
     "data": {
      "image/png": "[encoded data removed]",
      "text/plain": [
       "<Figure size 720x360 with 2 Axes>"
      ]
     },
     "metadata": {
      "needs_background": "light"
     },
     "output_type": "display_data"
    }
   ],
   "source": [
    "gen_plot([cherbourg_survival_count, queenstown_survival_count, southampton_survival_count],\n",
    "         [cherbourg_death_count, queenstown_death_count, southampton_death_count],\n",
    "         '按登船港口',\n",
    "         ['瑟堡', '皇后镇', '南安普敦'])"
   ]
  },
  {
   "cell_type": "markdown",
   "metadata": {},
   "source": [
    "我不认为妇女和儿童在这两个登船港的人数过多。那么我们可以做两个假设。\n",
    "\n",
    "- 来自瑟堡的乘客往往拥有较高等级的船票，而来自南安普顿的乘客拥有较低等级的船票。\n",
    "- 来自南安普顿的乘客的船舱更靠近撞击，或者更远离甲板。"
   ]
  },
  {
   "cell_type": "markdown",
   "metadata": {},
   "source": [
    "我们可以检验第一个假设（类分布）。"
   ]
  },
  {
   "cell_type": "code",
   "execution_count": 118,
   "metadata": {},
   "outputs": [],
   "source": [
    "# 瑟堡舱位分布\n",
    "cherbourg_df = df[df['Embarked'] == 'C']\n",
    "southampton_df = df[df['Embarked'] == 'S']\n",
    "\n",
    "count_cherbourg_first = (cherbourg_df['Pclass'] == 1).sum()\n",
    "count_cherbourg_second = (cherbourg_df['Pclass'] == 2).sum()\n",
    "count_cherbourg_third = (cherbourg_df['Pclass'] == 3).sum()\n",
    "\n",
    "per_cherbourg_first = count_cherbourg_first / cherbourg_count * 100\n",
    "per_cherbourg_second = count_cherbourg_second / cherbourg_count * 100\n",
    "per_cherbourg_third = count_cherbourg_third / cherbourg_count * 100\n",
    "\n",
    "\n",
    "# Southampton distribution per class\n",
    "count_southampton_first = (southampton_df['Pclass'] == 1).sum()\n",
    "count_southampton_second = (southampton_df['Pclass'] == 2).sum()\n",
    "count_southampton_third = (southampton_df['Pclass'] == 3).sum()\n",
    "\n",
    "per_southampton_first = count_southampton_first / southampton_count * 100\n",
    "per_southampton_second = count_southampton_second / southampton_count * 100\n",
    "per_southampton_third = count_southampton_third / southampton_count * 100"
   ]
  },
  {
   "cell_type": "code",
   "execution_count": 119,
   "metadata": {},
   "outputs": [
    {
     "name": "stdout",
     "output_type": "stream",
     "text": [
      "瑟堡头等舱百分比 =  50.595238095238095\n",
      "瑟堡二等舱百分比 =  10.119047619047619\n",
      "瑟堡三等百分比 =  39.285714285714285\n",
      "\n",
      "南安普顿头等舱百分比 =  19.72049689440994\n",
      "南安普顿二等舱百分比 =  25.465838509316768\n",
      "南安普顿三等舱百分比 =  54.81366459627329\n"
     ]
    }
   ],
   "source": [
    "print('瑟堡头等舱百分比 = ', per_cherbourg_first)\n",
    "print('瑟堡二等舱百分比 = ', per_cherbourg_second)\n",
    "print('瑟堡三等百分比 = ', per_cherbourg_third)\n",
    "print('\\n南安普顿头等舱百分比 = ', per_southampton_first)\n",
    "print('南安普顿二等舱百分比 = ', per_southampton_second)\n",
    "print('南安普顿三等舱百分比 = ', per_southampton_third)"
   ]
  },
  {
   "cell_type": "markdown",
   "metadata": {},
   "source": [
    "看来我们的第一个假设是正确的。\n",
    "\n",
    "- 来自瑟堡的约50%的乘客是头等舱\n",
    "- 来自南安普敦的乘客中，约55%是二等舱。\n",
    "\n",
    "这就解释了为什么瑟堡的乘客的存活率比南安普顿的乘客高。"
   ]
  },
  {
   "cell_type": "markdown",
   "metadata": {},
   "source": [
    "让我们重申我们之前所做的组合分析（性别和舱位类别），在等式中添加登船港口因素。"
   ]
  },
  {
   "cell_type": "code",
   "execution_count": 120,
   "metadata": {},
   "outputs": [
    {
     "data": {
      "text/plain": [
       "Sex     Pclass  Embarked\n",
       "female  1       C            97.674419\n",
       "                Q           100.000000\n",
       "                S            95.833333\n",
       "        2       C           100.000000\n",
       "                Q           100.000000\n",
       "                S            91.044776\n",
       "        3       C            65.217391\n",
       "                Q            72.727273\n",
       "                S            37.500000\n",
       "male    1       C            40.476190\n",
       "                Q             0.000000\n",
       "                S            35.443038\n",
       "        2       C            20.000000\n",
       "                Q             0.000000\n",
       "                S            15.463918\n",
       "        3       C            23.255814\n",
       "                Q             7.692308\n",
       "                S            12.830189\n",
       "Name: Survived, dtype: float64"
      ]
     },
     "execution_count": 120,
     "metadata": {},
     "output_type": "execute_result"
    }
   ],
   "source": [
    "df.groupby(['Sex', 'Pclass', 'Embarked'])['Survived'].mean() * 100"
   ]
  },
  {
   "cell_type": "markdown",
   "metadata": {},
   "source": [
    "来自**瑟堡的头等舱女性**的生存机会： ≈ 97.67%\n",
    "\n",
    "来自**南安普顿的杰克舱男子**的生存机会：≈12.83%。"
   ]
  },
  {
   "cell_type": "markdown",
   "metadata": {},
   "source": [
    "### 结论"
   ]
  },
  {
   "cell_type": "markdown",
   "metadata": {},
   "source": [
    "从以上分析中，我们倾向于得出这样的结论，即如果乘客希望有较高的生存机会。\n",
    "\n",
    "- 他必须有一张高级别的舱位票\n",
    "- 她们是女性\n",
    "- 他们是年轻人\n",
    "- 他们从瑟堡登船\n",
    "\n",
    "相反，作为一个来自南安普顿的杰克舱老人，你的生存机会就会降低。"
   ]
  },
  {
   "cell_type": "markdown",
   "metadata": {},
   "source": [
    "然而，有几件事我们应该牢记在心。\n",
    "\n",
    "- 这个数据集包含891名乘客的数据，但总共有2228名乘客。我们只拥有三分之一多一点的数据。\n",
    "- 有缺失的数据，特别是在年龄分析方面。\n",
    "- 我们可以得到关于乘客的其他信息，比如他们离救生艇有多近。这可能也有影响。"
   ]
  },
  {
   "cell_type": "markdown",
   "metadata": {},
   "source": [
    "### 番外"
   ]
  },
  {
   "cell_type": "code",
   "execution_count": 124,
   "metadata": {},
   "outputs": [],
   "source": [
    "# 删除空数据\n",
    "df_ages = df.dropna(how='any')"
   ]
  },
  {
   "cell_type": "code",
   "execution_count": 126,
   "metadata": {},
   "outputs": [
    {
     "data": {
      "image/png": "[encoded data removed]",
      "text/plain": [
       "<Figure size 432x288 with 1 Axes>"
      ]
     },
     "metadata": {
      "needs_background": "light"
     },
     "output_type": "display_data"
    }
   ],
   "source": [
    "# 按年龄展示分布情况\n",
    "df_ages[['Age']].plot(kind='hist',bins=[0,20,40,60,80,100],rwidth=0.8)\n",
    "plt.show()"
   ]
  },
  {
   "cell_type": "code",
   "execution_count": 133,
   "metadata": {},
   "outputs": [
    {
     "data": {
      "image/png": "[encoded data removed]",
      "text/plain": [
       "<Figure size 432x288 with 1 Axes>"
      ]
     },
     "metadata": {
      "needs_background": "light"
     },
     "output_type": "display_data"
    }
   ],
   "source": [
    "# 按舱位统计性别情况\n",
    "df.groupby(['Sex','Pclass']).size().unstack().plot(kind='bar',stacked=True)\n",
    "plt.show()"
   ]
  },
  {
   "cell_type": "code",
   "execution_count": 134,
   "metadata": {},
   "outputs": [
    {
     "data": {
      "image/png": "[encoded data removed]",
      "text/plain": [
       "<Figure size 432x288 with 1 Axes>"
      ]
     },
     "metadata": {
      "needs_background": "light"
     },
     "output_type": "display_data"
    }
   ],
   "source": [
    "# 按性别进行存活率展示\n",
    "df.groupby(['Sex','Survived']).size().unstack().plot(kind='bar',stacked=True)\n",
    "plt.show()"
   ]
  },
  {
   "cell_type": "code",
   "execution_count": 137,
   "metadata": {},
   "outputs": [
    {
     "data": {
      "image/png": "[encoded data removed]",
      "text/plain": [
       "<Figure size 432x288 with 1 Axes>"
      ]
     },
     "metadata": {
      "needs_background": "light"
     },
     "output_type": "display_data"
    }
   ],
   "source": [
    "import matplotlib.ticker as mtick\n",
    "import matplotlib.pyplot as plt\n",
    "\n",
    "df.groupby(['Sex','Pclass']).size().groupby(level=0).apply(\n",
    "    lambda x: 100 * x / x.sum()\n",
    ").unstack().plot(kind='bar',stacked=True)\n",
    "\n",
    "plt.gca().yaxis.set_major_formatter(mtick.PercentFormatter())\n",
    "plt.show()"
   ]
  },
  {
   "cell_type": "code",
   "execution_count": 143,
   "metadata": {},
   "outputs": [
    {
     "data": {
      "text/plain": [
       "<matplotlib.axes._subplots.AxesSubplot at 0x7fd1b202fe10>"
      ]
     },
     "execution_count": 143,
     "metadata": {},
     "output_type": "execute_result"
    },
    {
     "data": {
      "image/png": "[encoded data removed]",
      "text/plain": [
       "<Figure size 432x288 with 1 Axes>"
      ]
     },
     "metadata": {
      "needs_background": "light"
     },
     "output_type": "display_data"
    }
   ],
   "source": [
    "# 用groupby统计性别存活人数\n",
    "df.groupby('Sex').count()[\"Survived\"].plot(kind='bar')"
   ]
  }
 ],
 "metadata": {
  "kernelspec": {
   "display_name": "Python 3",
   "language": "python",
   "name": "python3"
  },
  "language_info": {
   "codemirror_mode": {
    "name": "ipython",
    "version": 3
   },
   "file_extension": ".py",
   "mimetype": "text/x-python",
   "name": "python",
   "nbconvert_exporter": "python",
   "pygments_lexer": "ipython3",
   "version": "3.7.4"
  }
 },
 "nbformat": 4,
 "nbformat_minor": 2
}
